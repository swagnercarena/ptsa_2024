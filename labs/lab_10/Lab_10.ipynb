{
 "cells": [
  {
   "cell_type": "markdown",
   "id": "57677ec3-9b21-4ac9-999c-fc2b728b5499",
   "metadata": {},
   "source": [
    "# Spectral Analysis"
   ]
  },
  {
   "cell_type": "markdown",
   "id": "24e2430a-6f5e-4f89-9e44-f1d3f1183a49",
   "metadata": {},
   "source": [
    "__Overview__: This lab is meant as an introduction to Spectral Analysis and the Fourier Transform.\n",
    "\n",
    "__Goals__: Students should:\n",
    "\n",
    "1. Be able to calculate the discrete Fourier transform using numpy.\n",
    "2. Gain intuition for the discrete Fourier transform.\n",
    "3. Gain intuition for how our signal reconstruction changes with more terms in the Fourier Series.\n",
    "4. Be able to calculate the spectrogram of a signal using scipy.\n",
    "5. Gain intuition for how we can use the spectogram to filter the signal."
   ]
  },
  {
   "cell_type": "code",
   "execution_count": null,
   "id": "086868a6-4b06-4a45-ae8c-9998b6d4f230",
   "metadata": {},
   "outputs": [],
   "source": [
    "import functools\n",
    "from typing import Any, Tuple\n",
    "\n",
    "import numpy as np\n",
    "from matplotlib import colorbar\n",
    "import matplotlib.pyplot as plt\n",
    "import scipy.signal as scipy_signal"
   ]
  },
  {
   "cell_type": "code",
   "execution_count": null,
   "id": "ec58fd4e-75a5-4782-aa80-693ae2681e71",
   "metadata": {},
   "outputs": [],
   "source": [
    "# Useful helper functions.\n",
    "def compare_signal_plot(\n",
    "    signal: np.ndarray, reconstructed_signal: np.ndarray, signal_name: str\n",
    "):\n",
    "    fontsize = 12\n",
    "    fig, ax = plt.subplots(2, 1, figsize=(10, 5), dpi=100, sharex=True, height_ratios=[1.5,1])\n",
    "    colors = ['#a1dab4', '#41b6c4', '#225ea8']\n",
    "    \n",
    "    ax[0].plot(time, signal, label=signal_name, color=colors[0])\n",
    "    ax[0].plot(time, reconstructed_signal, label='Reconstructed Signal', color=colors[1])\n",
    "    ax[0].set_ylabel('Signal', fontsize=fontsize)\n",
    "    ax[0].legend(fontsize=fontsize, loc=1, framealpha=1.0)\n",
    "    ax[0].set_ylim([-30,30])\n",
    "    \n",
    "    ax[1].plot(time, signal-reconstructed_signal, \n",
    "               label=f'{signal_name} - Reconstructed Signal', color=colors[1])\n",
    "    plt.axhline(0, c='k')\n",
    "    ax[1].set_ylabel('Error', fontsize=fontsize)\n",
    "    ax[1].legend(fontsize=fontsize, loc=1, framealpha=1.0)\n",
    "    ax[1].set_ylim([-10,10])\n",
    "    ax[1].set_xlabel('Time', fontsize=fontsize)\n",
    "    \n",
    "    fig.subplots_adjust(hspace=0.0)\n",
    "    plt.show()"
   ]
  },
  {
   "cell_type": "markdown",
   "id": "c67f3b48-60d7-460c-95b2-af6fff68009d",
   "metadata": {},
   "source": [
    "## Periodic Signals\n",
    "In this lab we'll be working with two periodic signals that will help us appreciate the Fourier Transform. The first will be the sawtooth function:\n",
    "\n",
    "$$\n",
    "X_t = t \\text{ mod } P_\\text{saw} - \\frac{P_\\text{saw}}{2}\n",
    "$$\n",
    "where $P_\\text{saw}$ is the periodicity in our dataset. We will also use a sum of sines with time-varying amplitude:\n",
    "\n",
    "$$\n",
    "X_t = A_t \\sin(2 \\pi k_A t) + B_t \\sin(2 \\pi k_B t) + C_t \\sin(2 \\pi k_C t) \n",
    "$$\n",
    "$$\n",
    "A_t = c_A * \\text{round}(\\sin(2 \\pi \\frac{t}{P_A})) \\ \\ \\ \\ \\text{or}  \\ \\ \\ \\  c_A\n",
    "$$\n",
    "$$\n",
    "B_t = c_B * \\text{round}(\\sin(2 \\pi \\frac{t}{P_B})) \\ \\ \\ \\ \\text{or}  \\ \\ \\ \\ c_B\n",
    "$$\n",
    "$$\n",
    "C_t = c_C * \\text{round}(\\sin(2 \\pi \\frac{t}{P_A}))  \\ \\ \\ \\ \\text{or}  \\ \\ \\ \\ c_C\n",
    "$$\n",
    "where we will set the time-varying amplitude to a sawtooth function or a constant value. Note that $k_A,k_B,$ and $k_C$ are the frequency of our oscillating signal, whereas $P_A,P_B,$ and $P_C$ are the period for our amplitudes, and $c_A, c_B,$ and $c_C$ are constant amplitudes. $\\text{round}(\\cdot,1)$ implies rounding the number.\n",
    "\n",
    "The different signal are plotted below."
   ]
  },
  {
   "cell_type": "code",
   "execution_count": null,
   "id": "965bcefe-f159-469a-aa27-e45676463663",
   "metadata": {},
   "outputs": [],
   "source": [
    "time = np.linspace(0,100,10000)\n",
    "dt = np.max(time) / len(time)\n",
    "\n",
    "############# Sawtooth function. #############\n",
    "period_sawtooth = 20\n",
    "sawtooth_signal = time % period_sawtooth - period_sawtooth / 2\n",
    "\n",
    "############# Sine signal without amplitude variation. #############\n",
    "# Frequency of the three components of the sine signal.\n",
    "frequency_a = 1.0/2.0\n",
    "frequency_b = 1.0/1.0\n",
    "frequency_c = 2.0/1.0\n",
    "# Constant amplitude of the sine functions.\n",
    "c_a = 10.0\n",
    "c_b = 8.0\n",
    "c_c = 4.0\n",
    "a_t_ntv = c_a\n",
    "b_t_ntv = c_b\n",
    "c_t_ntv = c_c\n",
    "sines_ntv_signal = a_t_ntv * np.sin(2 * np.pi * frequency_a * time)\n",
    "sines_ntv_signal += b_t_ntv * np.sin(2 * np.pi * frequency_b * time)\n",
    "sines_ntv_signal += c_t_ntv * np.sin(2 * np.pi * frequency_c * time)\n",
    "\n",
    "############# Sine signal with amplitude variation.  #############\n",
    "# Period of the variation in the amplitude.\n",
    "period_a = 50.0\n",
    "period_b = 100.0\n",
    "period_c = 50.0\n",
    "a_t_tv = c_a * np.round(np.sin(2 * np.pi * time / period_a))\n",
    "b_t_tv = c_b * np.round(np.sin(2 * np.pi * time / period_b))\n",
    "c_t_tv = c_c * np.round(np.sin(2 * np.pi * time / period_c))\n",
    "sines_tv_signal = a_t_tv * np.sin(2 * np.pi * frequency_a * time)\n",
    "sines_tv_signal += b_t_tv * np.sin(2 * np.pi * frequency_b * time)\n",
    "sines_tv_signal += c_t_tv * np.sin(2 * np.pi * frequency_c * time)\n",
    "\n",
    "fontsize = 15\n",
    "fig, ax = plt.subplots(3, 1, figsize=(10, 10), dpi=100, sharex=True)\n",
    "colors = ['#a1dab4', '#41b6c4', '#225ea8']\n",
    "\n",
    "ax[0].plot(time, sawtooth_signal, label='Sawtooth Signal', color=colors[0])\n",
    "ax[0].set_ylabel('Signal', fontsize=fontsize)\n",
    "ax[0].legend(fontsize=fontsize, loc=1, framealpha=1.0)\n",
    "ax[0].set_ylim([-30,30])\n",
    "\n",
    "ax[1].plot(time, sines_ntv_signal, label='Sinusoidal Signal: Constant Amplitude', color=colors[1])\n",
    "ax[1].set_ylabel('Signal', fontsize=fontsize)\n",
    "ax[1].legend(fontsize=fontsize, loc=1, framealpha=1.0)\n",
    "ax[1].set_ylim([-30,30])\n",
    "\n",
    "ax[2].plot(time, sines_tv_signal, label='Sinusoidal Signal: Varying Amplitude', color=colors[2])\n",
    "ax[2].set_ylim([-30,30])\n",
    "ax[2].set_ylabel('Signal', fontsize=fontsize)\n",
    "ax[2].set_xlabel('Time', fontsize=fontsize)\n",
    "ax[2].legend(fontsize=fontsize, loc=1, framealpha=1.0)\n",
    "\n",
    "fig.subplots_adjust(hspace=0.1)"
   ]
  },
  {
   "cell_type": "markdown",
   "id": "00ace50a-6992-4ba0-86db-1d73f139ef18",
   "metadata": {},
   "source": [
    "# Part I: Fourier Series Functions"
   ]
  },
  {
   "cell_type": "markdown",
   "id": "3508e110-ad52-4c6f-b441-ef3b8fa7b1e5",
   "metadata": {},
   "source": [
    "Our goal is to understand the fourier series representation of these signals. We also want to get a better understanding for the discrete fourier transform and the short-time Fourier transform. To start we need to:\n",
    "\n",
    "1. Implement a function that calculates the $A_n$ and $B_n$ coefficients of the Fourier series for our signal. We will take advantage of the numpy implementation of the discrete Fourier transform.\n",
    "2. Implement a function that filters which elements of the Fourier series expansion are used. This is equivalent to representing the data as the sum of a handful of cosine functions at a specific set of frequencies."
   ]
  },
  {
   "cell_type": "code",
   "execution_count": null,
   "id": "3ac7f20d-091a-4504-acce-2a466959c76c",
   "metadata": {},
   "outputs": [],
   "source": [
    "def calculate_fourier_series(\n",
    "    dt: float, signal: np.ndarray\n",
    ") -> Tuple[np.ndarray, np.ndarray, np.ndarray]:\n",
    "    \"\"\"Calculate the Fourier series coefficients using the Fourier transform.\n",
    "\n",
    "    Args:\n",
    "        dt: Interval between samples.\n",
    "        signal: Real signal at each point in time.\n",
    "\n",
    "    Returns:\n",
    "        Frequencies, A_n, and B_n coefficients for the fourier series \n",
    "        representaiton.\n",
    "\n",
    "    Notes:\n",
    "        Take advantage of numpy.fft. Remember that the signal is real not \n",
    "        complex. You may want to take advantage of the norm keyword.\n",
    "    \"\"\"\n",
    "    # Placeholders.\n",
    "    a_n = None\n",
    "    b_n = None\n",
    "\n",
    "    # TODO: Calculate the frequencies of each A_n and B_n. Remember that the\n",
    "    # maximum frequency you can measure (and the maximum value numpy.fft will return\n",
    "    # for real-valued signals) will be the Nyquist frequency.\n",
    "    frequencies = # TODO\n",
    "    \n",
    "    # TODO: Calculate the fourier series coefficients. Compare the equations from\n",
    "    # the notes, and read the numpy.fft documentation carefully.\n",
    "    fourier_transform = # TODO\n",
    "    \n",
    "    return frequencies, a_n, b_n\n",
    "\n",
    "def reconstructed_signal(\n",
    "    frequency_mask: float, signal: np.ndarray\n",
    ") -> Tuple[np.ndarray, np.ndarray, np.ndarray]:\n",
    "    \"\"\"Return the signal with a mask applied to the Fourier series.\n",
    "\n",
    "    Args:\n",
    "        frequency_mask: Terms in the Fourier series to mask.\n",
    "        signal: Real signal at each point in time.\n",
    "\n",
    "    Returns:\n",
    "        Reconstructed signal after frequency mask has been applied.\n",
    "\n",
    "    Notes:\n",
    "        Take advantage of numpy.fft. Remember that the signal is real not \n",
    "        complex.\n",
    "    \"\"\"    \n",
    "    # TODO: Calculate the fourier transform, apply the mask,\n",
    "    # and reverse the transformation.\n",
    "    fourier_transform = # TODO\n",
    "    return \n",
    "    "
   ]
  },
  {
   "cell_type": "code",
   "execution_count": null,
   "id": "03101087-35f1-4aec-a60f-f3ed429e0420",
   "metadata": {},
   "outputs": [],
   "source": [
    "# A few tests for our functions.\n",
    "# Star with the calculate_fourier_series function.\n",
    "test_signal = np.array([0.1, 0.2, 0.2, 0.1, 0.5])\n",
    "f_t, a_n_t, b_n_t = calculate_fourier_series(0.2, test_signal)\n",
    "\n",
    "# Test that the correct frequencies were extracted.\n",
    "np.testing.assert_array_almost_equal(f_t, np.array([0.0, 1.0, 2.0]))\n",
    "\n",
    "# Test that the correct frequencies were extracted.\n",
    "np.testing.assert_array_almost_equal(a_n_t, np.array([ 0.44, 0.029443, -0.149443]))\n",
    "\n",
    "# Test that the correct frequencies were extracted.\n",
    "np.testing.assert_array_almost_equal(b_n_t, np.array([0.0, -0.090615, -0.108576]))\n",
    "\n",
    "# Test masking\n",
    "test_mask = [False, True, False]\n",
    "recon_signal = reconstructed_signal(test_mask, test_signal)\n",
    "np.testing.assert_array_almost_equal(recon_signal, np.array([0.029443, -0.077082, -0.077082,  0.029443,  0.095279]))"
   ]
  },
  {
   "cell_type": "markdown",
   "id": "b6eec6a0-9f1e-4709-bb03-bfcc4ce25ef1",
   "metadata": {},
   "source": [
    "# Part II: Analyzing our Signals with a Fourier Series."
   ]
  },
  {
   "cell_type": "markdown",
   "id": "55391f74-dd40-4d18-b6a8-7837cd65a13f",
   "metadata": {},
   "source": [
    "Let's start by visualizing the first 250 $A_n$ and $B_n$ coefficients for our sum of sines signal with constant amplitude. We know the input frequency of the data since we generated it, so we can add that to our plot."
   ]
  },
  {
   "cell_type": "code",
   "execution_count": null,
   "id": "5b6217ad-b07e-4d06-9655-362ae967517b",
   "metadata": {},
   "outputs": [],
   "source": [
    "# TODO: Calculate the coefficients / frequencies and plot first 250 values.\n",
    "frequencies, a_n_sntv, b_n_sntv = # TODO\n",
    "frequencies_to_plot = # TODO\n",
    "a_n_to_plot = # TODO\n",
    "b_n_to_plot = # TODO\n",
    "\n",
    "plt.figure(figsize=(8,5), dpi=100)\n",
    "colors = ['black','grey']\n",
    "plt.plot(frequencies_to_plot, a_n_to_plot, 'x', label=r'$A_n$', color=colors[0], ms=6, alpha=0.8)\n",
    "plt.plot(frequencies_to_plot, b_n_to_plot, 'D', label=r'$B_n$', color=colors[1], ms=6, alpha=0.8)\n",
    "\n",
    "colors_freq = ['#a1dab4', '#41b6c4', '#225ea8']\n",
    "plt.axvline(frequency_a, label=r'$k_A$', color=colors_freq[0], lw=2, alpha=0.8)\n",
    "plt.axvline(frequency_b, label=r'$k_B$', color=colors_freq[1], lw=2, alpha=0.8)\n",
    "plt.axvline(frequency_c, label=r'$k_C$', color=colors_freq[2], lw=2, alpha=0.8)\n",
    "plt.legend(fontsize=fontsize)\n",
    "plt.ylabel(r'Amplitude of $A_n$ or $B_n$', fontsize=fontsize)\n",
    "plt.xlabel('Frequency', fontsize=fontsize)\n",
    "plt.tick_params(axis='both', labelsize=fontsize * 0.7)\n",
    "plt.title('Fourier Series for Sinusodal Signal: Constant Amplitude', fontsize=fontsize)\n",
    "plt.show()"
   ]
  },
  {
   "cell_type": "markdown",
   "id": "9e4b858a-bd5f-4dbd-b80d-8bd9d98a18ec",
   "metadata": {},
   "source": [
    "__Why do the $B_n$ values peak where they do?__\n",
    "\n",
    "__Justify the specific values of $B_n$__\n",
    "\n",
    "__Why are $A_n$ values so small?__"
   ]
  },
  {
   "cell_type": "code",
   "execution_count": null,
   "id": "06d03ef4-c381-4c19-a921-6608f8976fa9",
   "metadata": {},
   "outputs": [],
   "source": [
    "# TODO: Change this cell to markdown and write your answer to the question above.\n",
    "\n",
    "raise ValueError('Answer the question.')"
   ]
  },
  {
   "cell_type": "markdown",
   "id": "c5d73498-4117-4671-87d2-a9e148e87357",
   "metadata": {},
   "source": [
    "Let's repeat this excercise on our sawtooth signal. Let's visualizing the first 250 $A_n$ and $B_n$ coefficients. We know the input period of the data (and can take advantage of frequency = 1 / period), so we can add that to our plot."
   ]
  },
  {
   "cell_type": "code",
   "execution_count": null,
   "id": "8169c10e-5177-4381-80ec-59e7e9309a06",
   "metadata": {},
   "outputs": [],
   "source": [
    "# TODO: Calculate the coefficients / frequencies and plot first 250 values.\n",
    "frequencies, a_n_saw, b_n_saw = # TODO\n",
    "frequencies_to_plot = # TODO\n",
    "a_n_to_plot = # TODO\n",
    "b_n_to_plot = # TODO\n",
    "\n",
    "plt.figure(figsize=(8,5), dpi=100)\n",
    "colors = ['black','grey']\n",
    "plt.plot(frequencies_to_plot, a_n_to_plot, 'x', label=r'$A_n$', color=colors[0], ms=6, alpha=0.8)\n",
    "plt.plot(frequencies_to_plot, b_n_to_plot, 'D', label=r'$B_n$', color=colors[1], ms=6, alpha=0.8)\n",
    "\n",
    "colors_freq = ['#a1dab4', '#41b6c4', '#225ea8']\n",
    "plt.axvline(1/period_sawtooth, label=r'$\\frac{1}{P}$', color=colors_freq[0], lw=2, alpha=0.8)\n",
    "plt.legend(fontsize=fontsize)\n",
    "plt.ylabel(r'Amplitude of $A_n$ or $B_n$', fontsize=fontsize)\n",
    "plt.xlabel('Frequency', fontsize=fontsize)\n",
    "plt.tick_params(axis='both', labelsize=fontsize * 0.7)\n",
    "plt.title('Fourier Series for Sawtooth Signal', fontsize=fontsize)\n",
    "plt.show()"
   ]
  },
  {
   "cell_type": "markdown",
   "id": "22a533c5-0cb5-4a66-91c4-fd99af36f4ec",
   "metadata": {},
   "source": [
    "__Why is $B_n$ non-zero for so many different frequencies?__"
   ]
  },
  {
   "cell_type": "code",
   "execution_count": null,
   "id": "a5fb1e78-69b3-4cd6-a50b-d1e9e8290a61",
   "metadata": {},
   "outputs": [],
   "source": [
    "# TODO: Change this cell to markdown and write your answer to the question above.\n",
    "\n",
    "raise ValueError('Answer the question.')"
   ]
  },
  {
   "cell_type": "markdown",
   "id": "f866f100-b9ec-4e56-ac3d-07310004c79d",
   "metadata": {},
   "source": [
    "Finally, let's repeat this excercise on our sum of sines signal with varying amplitude. Let's visualizing the first 250 $A_n$ and $B_n$ coefficients. We still know the input frequencies of our signal, so we can visualize those as well."
   ]
  },
  {
   "cell_type": "code",
   "execution_count": null,
   "id": "2e090ad0-d639-46d8-a933-08cf7eddab85",
   "metadata": {},
   "outputs": [],
   "source": [
    "# TODO: Calculate the coefficients / frequencies and plot first 250 values.\n",
    "frequencies, a_n_stv, b_n_stv = # TODO\n",
    "frequencies_to_plot = # TODO\n",
    "a_n_to_plot = # TODO\n",
    "b_n_to_plot = # TODO\n",
    "\n",
    "plt.figure(figsize=(8,5), dpi=100)\n",
    "colors = ['black','grey']\n",
    "plt.plot(frequencies_to_plot, a_n_to_plot, 'x', label=r'$A_n$', color=colors[0], ms=6, alpha=0.8)\n",
    "plt.plot(frequencies_to_plot, b_n_to_plot, 'D', label=r'$B_n$', color=colors[1], ms=6, alpha=0.8)\n",
    "\n",
    "colors_freq = ['#a1dab4', '#41b6c4', '#225ea8']\n",
    "plt.axvline(frequency_a, label=r'$k_A$', color=colors_freq[0], lw=2, alpha=0.8)\n",
    "plt.axvline(frequency_b, label=r'$k_B$', color=colors_freq[1], lw=2, alpha=0.8)\n",
    "plt.axvline(frequency_c, label=r'$k_C$', color=colors_freq[2], lw=2, alpha=0.8)\n",
    "plt.legend(fontsize=fontsize)\n",
    "plt.ylabel(r'Amplitude of $A_n$ or $B_n$', fontsize=fontsize)\n",
    "plt.xlabel('Frequency', fontsize=fontsize)\n",
    "plt.tick_params(axis='both', labelsize=fontsize * 0.7)\n",
    "plt.title('Fourier Series for Sinusodal Signal: Varying Amplitude', fontsize=fontsize)\n",
    "plt.show()"
   ]
  },
  {
   "cell_type": "markdown",
   "id": "f3c4a9c1-721b-455c-a0cb-6d7c0f338307",
   "metadata": {},
   "source": [
    "__Why do the peaks in $B_n$ not line up with the input frequencies $k_A$, $k_B$, and $k_C$?__"
   ]
  },
  {
   "cell_type": "code",
   "execution_count": null,
   "id": "7f4b4bb0-c215-4e73-9d74-27fa8d22980e",
   "metadata": {},
   "outputs": [],
   "source": [
    "# TODO: Change this cell to markdown and write your answer to the question above.\n",
    "\n",
    "raise ValueError('Answer the question.')"
   ]
  },
  {
   "cell_type": "markdown",
   "id": "b4b1aa89-84fa-41ee-83d3-55ff70eebc91",
   "metadata": {},
   "source": [
    "# Part III: Reconstructing our Signals with a Fourier Series."
   ]
  },
  {
   "cell_type": "markdown",
   "id": "0e47bbd5-8fa9-4ff3-971d-4be7c0249c3c",
   "metadata": {},
   "source": [
    "Let's now try to reconstruct our signal using only a few terms in our Fourier series. Let's start with the data our Fourier series coefficients gave the simplest answer for: the sinusodal signal with constant amplitude. Mask out every frequency except $k_A$, $k_B$, and $k_C$."
   ]
  },
  {
   "cell_type": "code",
   "execution_count": null,
   "id": "9ee391a7-20a9-46de-b4a6-b4bf7fd6a78e",
   "metadata": {},
   "outputs": [],
   "source": [
    "# TODO: Return the reconstructed signal using only frequencies frequency_a, frequency_b, and frequency_c.\n",
    "mask = # TODO\n",
    "reconstructed_sines_ntv_signal = # TODO\n",
    "\n",
    "compare_signal_plot(sines_ntv_signal, reconstructed_sines_ntv_signal, 'Sinusodal: Constant Amplitude')"
   ]
  },
  {
   "cell_type": "markdown",
   "id": "6e6c90cb-d15b-4d93-84de-e277f93ac71a",
   "metadata": {},
   "source": [
    "__Why is the reconstructed signal so accurate with only a few terms in our Fourier series?__"
   ]
  },
  {
   "cell_type": "code",
   "execution_count": null,
   "id": "708c4dec-bfec-4b3c-8b98-475f2aba46a3",
   "metadata": {},
   "outputs": [],
   "source": [
    "# TODO: Change this cell to markdown and write your answer to the question above.\n",
    "\n",
    "raise ValueError('Answer the question.')"
   ]
  },
  {
   "cell_type": "markdown",
   "id": "7c36f9c6-db0c-4911-82c1-c9f8a8f9b691",
   "metadata": {},
   "source": [
    "Let's try the same with our sawtooth signal. That is, let's only keep the Fourier series terms associated with the true frequency of the signal $\\frac{1}{P_\\text{saw}}$ and see how the reconstruction fares."
   ]
  },
  {
   "cell_type": "code",
   "execution_count": null,
   "id": "a159057b-25bb-4302-939b-701b915372c1",
   "metadata": {},
   "outputs": [],
   "source": [
    "# TODO: Return the reconstructed signal using only frequencies frequency_a, frequency_b, and frequency_c.\n",
    "mask = # TODO\n",
    "reconstructed_sawtooth_signal = # TODO\n",
    "\n",
    "compare_signal_plot(sawtooth_signal, reconstructed_sawtooth_signal, 'Sawtooth')"
   ]
  },
  {
   "cell_type": "markdown",
   "id": "37bad028-26ad-4eb0-ad6a-d09cc8e44f01",
   "metadata": {},
   "source": [
    "__Why is the reconstruction so much poorer despite using the correct period?__"
   ]
  },
  {
   "cell_type": "code",
   "execution_count": null,
   "id": "141b1d12-2fe0-4261-b7fd-de6c1ab82842",
   "metadata": {},
   "outputs": [],
   "source": [
    "# TODO: Change this cell to markdown and write your answer to the question above.\n",
    "\n",
    "raise ValueError('Answer the question.')"
   ]
  },
  {
   "cell_type": "markdown",
   "id": "da89c259-e6ce-4139-9e3b-bf785dcf155c",
   "metadata": {},
   "source": [
    "What if instead of using only the true periodicity of the signal, we use the twenty most important frequencies. Select the twenty frequencies for which $A_n^2 + B_n^2$ is the largest and reconstruct the signal."
   ]
  },
  {
   "cell_type": "code",
   "execution_count": null,
   "id": "e6f51956-460b-4130-ada6-8249619c13cd",
   "metadata": {},
   "outputs": [],
   "source": [
    "# TODO: Return the reconstructed signal using only frequencies frequency_a, frequency_b, and frequency_c.\n",
    "mask = # TODO\n",
    "reconstructed_sawtooth_signal = # TODO\n",
    "\n",
    "compare_signal_plot(sawtooth_signal, reconstructed_sawtooth_signal, 'Sawtooth')"
   ]
  },
  {
   "cell_type": "markdown",
   "id": "3786de16-9ca5-4a07-96ac-5ef9a804921c",
   "metadata": {},
   "source": [
    "__Given your answer to the last question, why does the reconstruction now look much better?__"
   ]
  },
  {
   "cell_type": "code",
   "execution_count": null,
   "id": "937b2613-800d-4094-98a7-eae2f9305f66",
   "metadata": {},
   "outputs": [],
   "source": [
    "# TODO: Change this cell to markdown and write your answer to the question above.\n",
    "\n",
    "raise ValueError('Answer the question.')"
   ]
  },
  {
   "cell_type": "markdown",
   "id": "5ed13fdb-3ab8-4362-a348-8dfc75ef8b0d",
   "metadata": {},
   "source": [
    "Let's return to the sinusodal signal with varying amplitude. Mask out every frequency except $k_A$, $k_B$, and $k_C$."
   ]
  },
  {
   "cell_type": "code",
   "execution_count": null,
   "id": "e5147040-7ce8-4a09-897e-1207c70ccdac",
   "metadata": {},
   "outputs": [],
   "source": [
    "# TODO: Return the reconstructed signal using only frequencies frequency_a, frequency_b, and frequency_c.\n",
    "mask = # TODO\n",
    "reconstructed_sines_tv_signal = # TODO\n",
    "\n",
    "compare_signal_plot(sines_tv_signal, reconstructed_sines_tv_signal, 'Sinusodal: Varying Amplitude')"
   ]
  },
  {
   "cell_type": "markdown",
   "id": "7615eff9-3734-41db-8b8b-257585080957",
   "metadata": {},
   "source": [
    "__Why is this reconstruction so poor while the reconstruction for the constant amplitude signal was so accurate?__"
   ]
  },
  {
   "cell_type": "code",
   "execution_count": null,
   "id": "c16fe2f7-d283-4134-9228-95c81bee70e8",
   "metadata": {},
   "outputs": [],
   "source": [
    "# TODO: Change this cell to markdown and write your answer to the question above.\n",
    "\n",
    "raise ValueError('Answer the question.')"
   ]
  },
  {
   "cell_type": "markdown",
   "id": "a3db8b60-0287-4d1f-9114-3bcd27b3bf5f",
   "metadata": {},
   "source": [
    "What if we use the twenty most important frequencies again. Select the twenty frequencies for which $A_n^2 + B_n^2$ is the largest and reconstruct the signal."
   ]
  },
  {
   "cell_type": "code",
   "execution_count": null,
   "id": "165b596b-aa5f-42a2-9275-a771287dee44",
   "metadata": {},
   "outputs": [],
   "source": [
    "# TODO: Return the reconstructed signal using only frequencies frequency_a, frequency_b, and frequency_c.\n",
    "mask = # TODO\n",
    "reconstructed_sines_tv_signal = # TODO\n",
    "\n",
    "compare_signal_plot(sines_tv_signal, reconstructed_sines_tv_signal, 'Sinusodal: Varying Amplitude')"
   ]
  },
  {
   "cell_type": "markdown",
   "id": "77a7e46b-bb24-41fd-9d3b-cb771d19c1ef",
   "metadata": {},
   "source": [
    "__Given your answer to the last question, why does the reconstruction now look much better?__"
   ]
  },
  {
   "cell_type": "code",
   "execution_count": null,
   "id": "68b72977-7c82-4791-9306-b5e50c5de471",
   "metadata": {},
   "outputs": [],
   "source": [
    "# TODO: Change this cell to markdown and write your answer to the question above.\n",
    "\n",
    "raise ValueError('Answer the question.')"
   ]
  },
  {
   "cell_type": "markdown",
   "id": "eb89367a-f9c4-47b6-ab13-32553a7f6241",
   "metadata": {},
   "source": [
    "# Part IV: Dealing with Time-Varying Amplitudes"
   ]
  },
  {
   "cell_type": "markdown",
   "id": "77a21c9f-abce-4a5e-aa9d-de2259d5c991",
   "metadata": {},
   "source": [
    "It should be possible to describe the sinusodal signal with time-varying amplitudes well using only the Fourier series terms with frequencies $k_A$, $k_B$, and $k_C$. Let's take advantage of the short-time Fourier transform to do this. First we will need to:\n",
    "1. Implement a function that calculates the $A_{n,t}$ and $B_{n,t}$ coefficients of the Fourier series for our signal. We will take advantage of the scipy implementation of the short-time Fourier transform.\n",
    "2. Implement a function that filters which elements of the Fourier series expansion are used. This will be similar to the previous function, but now for the short-time Fourier transform\n",
    "\n",
    "__We've loaded scipy.signal as__ _scipy_signal_ __for you__"
   ]
  },
  {
   "cell_type": "code",
   "execution_count": null,
   "id": "146795df-75cf-4179-8034-06e3e78f6435",
   "metadata": {},
   "outputs": [],
   "source": [
    "def calculate_time_varying_fourier_series(\n",
    "    dt: float, n_steps_per_seg: int, signal: np.ndarray\n",
    ") -> Tuple[np.ndarray, np.ndarray, np.ndarray, np.ndarray]:\n",
    "    \"\"\"Calculate the Fourier series coefficients in multiple segments.\n",
    "\n",
    "    Args:\n",
    "        dt: Interval between samples.\n",
    "        n_steps_per_seg: Number of time steps in each segment.\n",
    "        signal: Real signal at each point in time.\n",
    "\n",
    "    Returns:\n",
    "        Frequencies, A_n and B_n coefficients for the fourier series \n",
    "        representaiton.\n",
    "\n",
    "    Notes:\n",
    "        Take advantage of scipy.signal.stft. You will want to use a boxcar\n",
    "        window and ensure no overlap between the windows. Check the stft\n",
    "        documentation for hints.\n",
    "    \"\"\"\n",
    "    # Placeholders.\n",
    "    a_n_t = None\n",
    "    b_n_t = None\n",
    "    frequencies = None\n",
    "    time_segments = None\n",
    "    \n",
    "    # TODO: Calculate the Fourier series coefficients for each segment. Remember \n",
    "    # to use a boxcar window and set the overlap to zero.\n",
    "    frequencies, time_segments, fourier_segments = # TODO\n",
    "\n",
    "    return frequencies, time_segments, a_n_t, b_n_t\n",
    "\n",
    "def reconstructed_time_varying_signal(\n",
    "    frequency_mask: np.ndarray, dt: float, n_steps_per_seg: int, signal: np.ndarray\n",
    ") -> Tuple[np.ndarray]:\n",
    "    \"\"\"Return the signal with a mask applied to the short-time Fourier series.\n",
    "\n",
    "    Args:\n",
    "        frequency_mask: Terms in the Fourier series to mask.\n",
    "        dt: Interval between samples.\n",
    "        n_steps_per_seg: Number of time steps in each segment.\n",
    "        signal: Real signal at each point in time.\n",
    "\n",
    "    Returns:\n",
    "        Signal after frequency mask has been applied.\n",
    "\n",
    "    Notes:\n",
    "        Take advantage of scipy.signal.stft and scipy.signal.istft. Remember\n",
    "        to use the boxcar window and no overlap.\n",
    "    \"\"\"    \n",
    "    # Placeholder\n",
    "    stft_reconstruction = None\n",
    "    \n",
    "    # TODO: Calculate the fourier transform, apply the mask,\n",
    "    # and reverse the transformation. You will need to add a\n",
    "    # new axis to the mask.\n",
    "    raise ValueError('Write the code')\n",
    "    \n",
    "    return stft_reconstruction\n",
    "    "
   ]
  },
  {
   "cell_type": "code",
   "execution_count": null,
   "id": "bcd3b9ef-922f-464a-9368-e415971d475f",
   "metadata": {},
   "outputs": [],
   "source": [
    "# A few tests for our functions.\n",
    "# Star with the calculate_fourier_series function.\n",
    "test_signal = np.array([0.1, 0.2, 0.2, 0.1])\n",
    "f_t, t_t, a_n_t, b_n_t = calculate_time_varying_fourier_series(0.2, 2, test_signal)\n",
    "\n",
    "# Test that the correct frequencies were extracted.\n",
    "np.testing.assert_array_almost_equal(f_t, np.array([0.0, 2.5]))\n",
    "\n",
    "# Test that the correct times were extracted.\n",
    "np.testing.assert_array_almost_equal(t_t, np.array([0.0, 0.4, 0.8]))\n",
    "\n",
    "# Test that the correct frequencies were extracted.\n",
    "np.testing.assert_array_almost_equal(\n",
    "    a_n_t, \n",
    "    np.array([[0.1, 0.4, 0.1],[-0.1, 0.0, 0.1]])\n",
    ")\n",
    "\n",
    "# Test that the correct frequencies were extracted.\n",
    "np.testing.assert_array_almost_equal(\n",
    "    b_n_t, \n",
    "    np.array([[0.0, 0.0, 0.0],[0.0, 0.0, 0.0]])\n",
    ")\n",
    "\n",
    "t_recon = reconstructed_time_varying_signal(\n",
    "    np.array([0,1]), 0.2, 2, test_signal\n",
    ")\n",
    "np.testing.assert_array_almost_equal(\n",
    "    t_recon, \n",
    "    np.array([0.05, 0.  , 0.  , 0.05])\n",
    ")"
   ]
  },
  {
   "cell_type": "markdown",
   "id": "1deebca8-498f-4ab5-bd94-3bd6a68b2bb6",
   "metadata": {},
   "source": [
    "Let's start by using our new functions to compare the $B_n$ and $A_n$ values for our sinusodal signal with constant amplitude."
   ]
  },
  {
   "cell_type": "code",
   "execution_count": null,
   "id": "89b451c6-a70a-4e7d-9215-eba11a047490",
   "metadata": {},
   "outputs": [],
   "source": [
    "n_steps_per_seg = 400\n",
    "frequencies, time_segments, a_n_t, b_n_t = calculate_time_varying_fourier_series(dt, n_steps_per_seg, sines_ntv_signal)\n",
    "\n",
    "fontsize = 12\n",
    "fig, ax = plt.subplots(1, 2, figsize=(10, 5), dpi=100, sharey=True)\n",
    "\n",
    "ax[0].pcolormesh(time_segments, frequencies[:10], a_n_t[:10], vmin=-10, vmax=10)\n",
    "ax[0].set_title(r'$A_n$ Values', fontsize=fontsize)\n",
    "ax[0].set_ylabel('Frequency', fontsize=fontsize)\n",
    "ax[0].set_xlabel('Time', fontsize=fontsize)\n",
    "pcm = ax[1].pcolormesh(time_segments, frequencies[:10], b_n_t[:10], vmin=-10, vmax=10)\n",
    "ax[1].set_title(r'$B_n$ Values', fontsize=fontsize)\n",
    "ax[1].set_xlabel('Time', fontsize=fontsize)\n",
    "\n",
    "\n",
    "cbar_ax = fig.add_axes([0.92, 0.125, 0.02, 0.755])\n",
    "fig.colorbar(pcm, cax=cbar_ax)\n",
    "fig.subplots_adjust(wspace=0.0)\n",
    "plt.show()"
   ]
  },
  {
   "cell_type": "markdown",
   "id": "93417e7a-5134-4096-a75f-56ae1c7f7f00",
   "metadata": {},
   "source": [
    "__Do the $B_n$ values make sense? Why?__"
   ]
  },
  {
   "cell_type": "code",
   "execution_count": null,
   "id": "e4b07566-4376-47da-a422-85c95e037c9d",
   "metadata": {},
   "outputs": [],
   "source": [
    "# TODO: Change this cell to markdown and write your answer to the question above.\n",
    "\n",
    "raise ValueError('Answer the question.')"
   ]
  },
  {
   "cell_type": "markdown",
   "id": "9fc1152f-cb3f-4284-85b9-b45a782ae12a",
   "metadata": {},
   "source": [
    "Now let's use our functions for what we intended: the sinusodal signal with varying amplitude."
   ]
  },
  {
   "cell_type": "code",
   "execution_count": null,
   "id": "a1925901-780d-4880-82af-2f658ff5e7ca",
   "metadata": {},
   "outputs": [],
   "source": [
    "n_steps_per_seg = 400\n",
    "frequencies, time_segments, a_n_t, b_n_t = calculate_time_varying_fourier_series(dt, n_steps_per_seg, sines_tv_signal)\n",
    "\n",
    "fontsize = 12\n",
    "fig, ax = plt.subplots(1, 2, figsize=(10, 5), dpi=100, sharey=True)\n",
    "\n",
    "ax[0].pcolormesh(time_segments, frequencies[:10], a_n_t[:10], vmin=-10, vmax=10)\n",
    "ax[0].set_title(r'$A_n$ Values', fontsize=fontsize)\n",
    "ax[0].set_ylabel('Frequency', fontsize=fontsize)\n",
    "ax[0].set_xlabel('Time', fontsize=fontsize)\n",
    "pcm = ax[1].pcolormesh(time_segments, frequencies[:10], b_n_t[:10], vmin=-10, vmax=10)\n",
    "ax[1].set_title(r'$B_n$ Values', fontsize=fontsize)\n",
    "ax[1].set_xlabel('Time', fontsize=fontsize)\n",
    "\n",
    "\n",
    "cbar_ax = fig.add_axes([0.92, 0.125, 0.02, 0.755])\n",
    "fig.colorbar(pcm, cax=cbar_ax)\n",
    "fig.subplots_adjust(wspace=0.0)\n",
    "plt.show()"
   ]
  },
  {
   "cell_type": "markdown",
   "id": "eee75649-c4bb-45c5-9aaf-720c326c32a8",
   "metadata": {},
   "source": [
    "__Do the $B_n$ values capture the time variation?__"
   ]
  },
  {
   "cell_type": "code",
   "execution_count": null,
   "id": "1655d528-47d1-4277-88d1-03112cf8eb15",
   "metadata": {},
   "outputs": [],
   "source": [
    "# TODO: Change this cell to markdown and write your answer to the question above.\n",
    "\n",
    "raise ValueError('Answer the question.')"
   ]
  },
  {
   "cell_type": "markdown",
   "id": "b1bbc080-a2db-40a2-88f4-260d6795372a",
   "metadata": {},
   "source": [
    "Before we got a terrible reconstruction for our sinusodal signal with varying amplitude using only the target frequencies. Let's repeat that excercise with our short-time fourier transform and see how we do."
   ]
  },
  {
   "cell_type": "code",
   "execution_count": null,
   "id": "63fe030d-698f-48ea-b2f5-13cc5f5b0838",
   "metadata": {},
   "outputs": [],
   "source": [
    "# TODO: Reconstruct the signal only using the three frequencies of the sines used to make the signal.\n",
    "mask = # TODO\n",
    "stft_reconstruction = # TODO\n",
    "\n",
    "compare_signal_plot(sines_tv_signal, stft_reconstruction, 'Sinusodal: Varying Amplitude')"
   ]
  },
  {
   "cell_type": "markdown",
   "id": "a96f5f2d-f0d3-4485-9492-badca069c2ab",
   "metadata": {},
   "source": [
    "__Why is the reconstruction so much better now?__"
   ]
  },
  {
   "cell_type": "code",
   "execution_count": null,
   "id": "651069fd-1431-454a-b519-7475cbbebce1",
   "metadata": {},
   "outputs": [],
   "source": [
    "# TODO: Change this cell to markdown and write your answer to the question above.\n",
    "\n",
    "raise ValueError('Answer the question.')"
   ]
  },
  {
   "cell_type": "code",
   "execution_count": null,
   "id": "82cb50ad-5786-4e29-a8f0-11866add8687",
   "metadata": {},
   "outputs": [],
   "source": []
  }
 ],
 "metadata": {
  "kernelspec": {
   "display_name": "Python 3 (ipykernel)",
   "language": "python",
   "name": "python3"
  },
  "language_info": {
   "codemirror_mode": {
    "name": "ipython",
    "version": 3
   },
   "file_extension": ".py",
   "mimetype": "text/x-python",
   "name": "python",
   "nbconvert_exporter": "python",
   "pygments_lexer": "ipython3",
   "version": "3.11.5"
  }
 },
 "nbformat": 4,
 "nbformat_minor": 5
}
